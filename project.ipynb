{
 "cells": [
  {
   "cell_type": "markdown",
   "id": "c42d37eb",
   "metadata": {},
   "source": [
    "Hand tracking Project\n",
    "Model was trained on images with 21 point landmarks labeled. "
   ]
  },
  {
   "cell_type": "code",
   "execution_count": 1,
   "id": "7e9f8f1d",
   "metadata": {},
   "outputs": [],
   "source": [
    "import cv2"
   ]
  }
 ],
 "metadata": {
  "kernelspec": {
   "display_name": "comp_vis",
   "language": "python",
   "name": "python3"
  },
  "language_info": {
   "codemirror_mode": {
    "name": "ipython",
    "version": 3
   },
   "file_extension": ".py",
   "mimetype": "text/x-python",
   "name": "python",
   "nbconvert_exporter": "python",
   "pygments_lexer": "ipython3",
   "version": "3.9.23"
  }
 },
 "nbformat": 4,
 "nbformat_minor": 5
}
